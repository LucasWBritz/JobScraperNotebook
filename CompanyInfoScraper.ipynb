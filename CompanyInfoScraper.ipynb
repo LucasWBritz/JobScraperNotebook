{
 "cells": [
  {
   "cell_type": "markdown",
   "metadata": {},
   "source": [
    "#### This script uses the company name obtained earlier and tries to get the link of this company searching on google"
   ]
  },
  {
   "cell_type": "code",
   "execution_count": null,
   "metadata": {},
   "outputs": [],
   "source": [
    "from bs4 import BeautifulSoup\n",
    "from urllib.parse import urlparse\n",
    "import csv\n",
    "import pandas as pd\n",
    "import time\n",
    "import datetime"
   ]
  },
  {
   "cell_type": "code",
   "execution_count": null,
   "metadata": {},
   "outputs": [],
   "source": [
    "#import this to access shared functions allowing us to share code across notebooks\n",
    "import sharedFunctions"
   ]
  },
  {
   "cell_type": "code",
   "execution_count": null,
   "metadata": {},
   "outputs": [],
   "source": [
    "def findSearchResults(parsed_html):\n",
    "    return parsed_html.body.find_all('div', attrs={'class':'r'})"
   ]
  },
  {
   "cell_type": "code",
   "execution_count": null,
   "metadata": {},
   "outputs": [],
   "source": [
    "def getUrl(companyName):\n",
    "    name = sharedFunctions.encodeString(companyName)\n",
    "    url = 'https://www.google.com/search?q=' + name\n",
    "    try:\n",
    "        soup = sharedFunctions.downloadAndParseLink(url)\n",
    "        items = findSearchResults(soup)\n",
    "        link = sharedFunctions.getAttrFromTag(items[0].a, 'href')\n",
    "        parsedUrl = urlparse(link)\n",
    "        return '{uri.scheme}://{uri.netloc}/'.format(uri=parsedUrl)\n",
    "    except Exception as ex:\n",
    "        print(\"Some exception happened. \", ex)\n",
    "        pass\n",
    "    return ''    "
   ]
  },
  {
   "cell_type": "markdown",
   "metadata": {},
   "source": [
    "### We will use the .csv created in the other notebook here to get the urls."
   ]
  },
  {
   "cell_type": "code",
   "execution_count": null,
   "metadata": {},
   "outputs": [],
   "source": [
    "csvData = pd.read_csv(\"JobInfoWithPostedDate.csv\")"
   ]
  },
  {
   "cell_type": "code",
   "execution_count": null,
   "metadata": {},
   "outputs": [],
   "source": [
    "companyLinks = []"
   ]
  },
  {
   "cell_type": "code",
   "execution_count": null,
   "metadata": {},
   "outputs": [],
   "source": [
    "for index, row in csvData.iterrows():    \n",
    "    postedOn = datetime.datetime.strptime(row[\"PostedOn\"], \"%Y-%m-%d\")\n",
    "    print(\"Getting for: {0} posted on {1}\".format(row[\"CompanyName\"], row[\"PostedOn\"]))\n",
    "    #We will only scrape jobs posted up to 15 days ago\n",
    "    if((datetime.datetime.now() - datetime.timedelta(days=int(15))) < postedOn):            \n",
    "        url = getUrl(row[\"CompanyName\"] + ' canada')\n",
    "        companyLinks.append(url)\n",
    "        print(\"--:> \" + url)\n",
    "        time.sleep(2)\n",
    "    else:\n",
    "        print(\"Ignoring. Older than 15 days.\")\n",
    "        companyLinks.append('')"
   ]
  },
  {
   "cell_type": "code",
   "execution_count": null,
   "metadata": {},
   "outputs": [],
   "source": [
    "csvData['CompanyLinks'] = companyLinks"
   ]
  },
  {
   "cell_type": "code",
   "execution_count": null,
   "metadata": {},
   "outputs": [],
   "source": [
    "csvData.to_csv ('JobInfoWithPostedDate_WithLink.csv', index = False, header=True)"
   ]
  }
 ],
 "metadata": {
  "kernelspec": {
   "display_name": "Python 3",
   "language": "python",
   "name": "python3"
  },
  "language_info": {
   "codemirror_mode": {
    "name": "ipython",
    "version": 3
   },
   "file_extension": ".py",
   "mimetype": "text/x-python",
   "name": "python",
   "nbconvert_exporter": "python",
   "pygments_lexer": "ipython3",
   "version": "3.7.4"
  }
 },
 "nbformat": 4,
 "nbformat_minor": 2
}
